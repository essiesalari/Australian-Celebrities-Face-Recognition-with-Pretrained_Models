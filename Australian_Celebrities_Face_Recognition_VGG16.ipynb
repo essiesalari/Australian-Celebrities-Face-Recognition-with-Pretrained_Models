{
  "nbformat": 4,
  "nbformat_minor": 0,
  "metadata": {
    "colab": {
      "provenance": [],
      "authorship_tag": "ABX9TyMr3zhUyaABsBggondFIQaK",
      "include_colab_link": true
    },
    "kernelspec": {
      "name": "python3",
      "display_name": "Python 3"
    },
    "language_info": {
      "name": "python"
    }
  },
  "cells": [
    {
      "cell_type": "markdown",
      "metadata": {
        "id": "view-in-github",
        "colab_type": "text"
      },
      "source": [
        "<a href=\"https://colab.research.google.com/github/essiesalari/Australian-Celebrities-Face-Recognition-with-Transfer-Learning/blob/main/Australian_Celebrities_Face_Recognition_VGG16.ipynb\" target=\"_parent\"><img src=\"https://colab.research.google.com/assets/colab-badge.svg\" alt=\"Open In Colab\"/></a>"
      ]
    },
    {
      "cell_type": "markdown",
      "source": [
        "# **Australian Celebrities Face Recognition-VGG16**"
      ],
      "metadata": {
        "id": "cOvOB2b2dgjU"
      }
    },
    {
      "cell_type": "markdown",
      "source": [
        "## Import Libraries"
      ],
      "metadata": {
        "id": "JIItkN255_5J"
      }
    },
    {
      "cell_type": "code",
      "source": [
        "import os\n",
        "import numpy as np\n",
        "import tensorflow as tf\n",
        "from tensorflow import keras"
      ],
      "metadata": {
        "id": "wdTvIkS6dgLz"
      },
      "execution_count": 15,
      "outputs": []
    },
    {
      "cell_type": "markdown",
      "source": [
        "## Import datatset"
      ],
      "metadata": {
        "id": "8qbPBgm56EKm"
      }
    },
    {
      "cell_type": "code",
      "source": [
        "! pip install bing_image_downloader"
      ],
      "metadata": {
        "colab": {
          "base_uri": "https://localhost:8080/"
        },
        "id": "iA9AJtLFwdFN",
        "outputId": "37e9d3ca-92ac-4c9a-acdc-9a70bd560369"
      },
      "execution_count": 16,
      "outputs": [
        {
          "output_type": "stream",
          "name": "stdout",
          "text": [
            "Requirement already satisfied: bing_image_downloader in /usr/local/lib/python3.10/dist-packages (1.1.2)\n"
          ]
        }
      ]
    },
    {
      "cell_type": "code",
      "source": [
        "from bing_image_downloader import downloader"
      ],
      "metadata": {
        "id": "HQ2H3UTIwdZs"
      },
      "execution_count": 17,
      "outputs": []
    },
    {
      "cell_type": "code",
      "source": [
        "# Query\n",
        "search_queries=[\n",
        "    'Nicole Kidman',\n",
        "    'Hugh Jackman',\n",
        "    'Mel Gibson',\n",
        "    'Russell Crowe',\n",
        "    'Liam Hemsworth',\n",
        "    'Cathy Freeman',\n",
        "    'Margot Robbie'\n",
        "]\n",
        "\n",
        "dataset_path = 'dataset'\n",
        "\n",
        "# Imgae downloder function\n",
        "def donwloader(query, n_sample, dataset_name):\n",
        "  downloader.download(query, limit=n_sample, output_dir=os.path.join(dataset_path, dataset_name), adult_filter_off=True, force_replace=False, timeout=60)\n",
        "\n",
        "for query in search_queries:\n",
        "  donwloader(query, n_sample=20, dataset_name='train')\n",
        "  donwloader(query, n_sample=10, dataset_name='val')\n",
        "  donwloader(query, n_sample=10, dataset_name='test')"
      ],
      "metadata": {
        "id": "nO8YtfFswx-C"
      },
      "execution_count": null,
      "outputs": []
    },
    {
      "cell_type": "code",
      "source": [
        "dataset_path='/content/dataset'\n",
        "train_path = os.path.join(dataset_path, 'train')\n",
        "val_path = os.path.join(dataset_path, 'val')\n",
        "test_path = os.path.join(dataset_path, 'test')"
      ],
      "metadata": {
        "id": "xU7c72eAz6wj"
      },
      "execution_count": 23,
      "outputs": []
    },
    {
      "cell_type": "code",
      "source": [
        "nr_files = nr_train_files = nr_val_files = nr_test_files = 0\n",
        "\n",
        "for root, dirc, files in os.walk(dataset_path):\n",
        "  nr_files += len(files)\n",
        "print(\"#files: \", nr_files)\n",
        "for root, dirc, files in os.walk(train_path):\n",
        "  nr_train_files += len(files)\n",
        "print(\"#train_files: \", nr_train_files)\n",
        "for root, dirc, files in os.walk(val_path):\n",
        "  nr_val_files += len(files)\n",
        "print(\"#val_files: \", nr_val_files)\n",
        "for root, dirc, files in os.walk(test_path):\n",
        "  nr_test_files += len(files)\n",
        "print(\"#test_files: \", nr_test_files)"
      ],
      "metadata": {
        "id": "shBrPFKcy2eb",
        "colab": {
          "base_uri": "https://localhost:8080/"
        },
        "outputId": "aa6226a2-0ae6-4210-9e28-d0b35755a960"
      },
      "execution_count": 24,
      "outputs": [
        {
          "output_type": "stream",
          "name": "stdout",
          "text": [
            "#files:  289\n",
            "#train_files:  145\n",
            "#val_files:  72\n",
            "#test_files:  72\n"
          ]
        }
      ]
    }
  ]
}