{
  "nbformat": 4,
  "nbformat_minor": 0,
  "metadata": {
    "colab": {
      "provenance": [],
      "gpuType": "T4",
      "authorship_tag": "ABX9TyO/uzzOBiE02A6Sa2D5HnJn",
      "include_colab_link": true
    },
    "kernelspec": {
      "name": "python3",
      "display_name": "Python 3"
    },
    "language_info": {
      "name": "python"
    },
    "accelerator": "GPU"
  },
  "cells": [
    {
      "cell_type": "markdown",
      "metadata": {
        "id": "view-in-github",
        "colab_type": "text"
      },
      "source": [
        "<a href=\"https://colab.research.google.com/github/essiesalari/Australian-Celebrities-Face-Recognition-with-Pretrained_Models/blob/main/Australian_Celebrities_Face_Recognition_VGG16.ipynb\" target=\"_parent\"><img src=\"https://colab.research.google.com/assets/colab-badge.svg\" alt=\"Open In Colab\"/></a>"
      ]
    },
    {
      "cell_type": "markdown",
      "source": [
        "# **Australian Celebrities Face Recognition_Pretrained Models**"
      ],
      "metadata": {
        "id": "cOvOB2b2dgjU"
      }
    },
    {
      "cell_type": "markdown",
      "source": [
        "## Import Libraries"
      ],
      "metadata": {
        "id": "JIItkN255_5J"
      }
    },
    {
      "cell_type": "code",
      "source": [
        "import os\n",
        "import numpy as np\n",
        "import tensorflow as tf\n",
        "from tensorflow import keras"
      ],
      "metadata": {
        "id": "wdTvIkS6dgLz"
      },
      "execution_count": null,
      "outputs": []
    },
    {
      "cell_type": "markdown",
      "source": [
        "## Import datatset"
      ],
      "metadata": {
        "id": "8qbPBgm56EKm"
      }
    },
    {
      "cell_type": "code",
      "source": [
        "! pip install bing_image_downloader"
      ],
      "metadata": {
        "colab": {
          "base_uri": "https://localhost:8080/"
        },
        "id": "iA9AJtLFwdFN",
        "outputId": "298a780b-fb48-4a02-eaaa-7720a5c62fab"
      },
      "execution_count": null,
      "outputs": [
        {
          "output_type": "stream",
          "name": "stdout",
          "text": [
            "Requirement already satisfied: bing_image_downloader in /usr/local/lib/python3.10/dist-packages (1.1.2)\n"
          ]
        }
      ]
    },
    {
      "cell_type": "code",
      "source": [
        "from bing_image_downloader import downloader"
      ],
      "metadata": {
        "id": "HQ2H3UTIwdZs"
      },
      "execution_count": null,
      "outputs": []
    },
    {
      "cell_type": "code",
      "source": [
        "# Query\n",
        "search_queries=[\n",
        "    'Nicole Kidman',\n",
        "    'Liam Hemsworth',\n",
        "    'Cathy Freeman',\n",
        "    'Margot Robbie',\n",
        "    'Mel Gibson'\n",
        "]\n",
        "\n",
        "dataset_path = 'dataset'\n",
        "\n",
        "# Imgae downloder function\n",
        "def donwloader(query, n_sample, dataset_name):\n",
        "  downloader.download(query, limit=n_sample, output_dir=os.path.join(dataset_path, dataset_name))\n",
        "\n",
        "for query in search_queries:\n",
        "  donwloader(query, n_sample=30, dataset_name='train')\n",
        "  donwloader(query, n_sample=5, dataset_name='val')\n",
        "  donwloader(query, n_sample=3, dataset_name='test')"
      ],
      "metadata": {
        "id": "nO8YtfFswx-C"
      },
      "execution_count": null,
      "outputs": []
    },
    {
      "cell_type": "code",
      "source": [
        "dataset_path='/content/dataset'\n",
        "train_path = os.path.join(dataset_path, 'train')\n",
        "val_path = os.path.join(dataset_path, 'val')\n",
        "test_path = os.path.join(dataset_path, 'test')"
      ],
      "metadata": {
        "id": "xU7c72eAz6wj"
      },
      "execution_count": null,
      "outputs": []
    },
    {
      "cell_type": "code",
      "source": [
        "nr_files = nr_train_files = nr_val_files = nr_test_files = 0\n",
        "\n",
        "for root, dirc, files in os.walk(dataset_path):\n",
        "  nr_files += len(files)\n",
        "print(\"#files: \", nr_files)\n",
        "for root, dirc, files in os.walk(train_path):\n",
        "  nr_train_files += len(files)\n",
        "print(\"#train_files: \", nr_train_files)\n",
        "for root, dirc, files in os.walk(val_path):\n",
        "  nr_val_files += len(files)\n",
        "print(\"#val_files: \", nr_val_files)\n",
        "for root, dirc, files in os.walk(test_path):\n",
        "  nr_test_files += len(files)\n",
        "print(\"#test_files: \", nr_test_files)"
      ],
      "metadata": {
        "id": "shBrPFKcy2eb",
        "colab": {
          "base_uri": "https://localhost:8080/"
        },
        "outputId": "4c0dd9b1-0a55-4896-9544-6568d65d5e07"
      },
      "execution_count": null,
      "outputs": [
        {
          "output_type": "stream",
          "name": "stdout",
          "text": [
            "#files:  191\n",
            "#train_files:  151\n",
            "#val_files:  25\n",
            "#test_files:  15\n"
          ]
        }
      ]
    },
    {
      "cell_type": "markdown",
      "source": [
        "# Build  a New Model"
      ],
      "metadata": {
        "id": "Pc1PmWF6Hk6Q"
      }
    },
    {
      "cell_type": "code",
      "source": [
        "from tensorflow.keras.preprocessing.image import ImageDataGenerator\n",
        "from tensorflow.keras.applications import VGG16, ResNet50, InceptionV3, EfficientNetB0\n",
        "from tensorflow.keras.models import Model\n",
        "from tensorflow.keras.layers import Dense, Flatten, Dropout, BatchNormalization, GlobalAveragePooling2D\n",
        "from tensorflow.keras.optimizers import Adam\n",
        "\n",
        "from sklearn.svm import SVC\n",
        "from sklearn.metrics import accuracy_score"
      ],
      "metadata": {
        "id": "gAhw7gOZHjrl"
      },
      "execution_count": null,
      "outputs": []
    },
    {
      "cell_type": "code",
      "source": [
        "batch_size = 128\n",
        "lr = 0.001\n",
        "epoch = 100\n",
        "\n",
        "# Define Image data generator\n",
        "train_datagen = ImageDataGenerator(\n",
        "                                  rescale=1./255,\n",
        "                                  rotation_range=20,\n",
        "                                  width_shift_range=0.2,\n",
        "                                  height_shift_range=0.2,\n",
        "                                  horizontal_flip=True)\n",
        "val_datagen = ImageDataGenerator(rescale=1./255)\n",
        "test_datagen =  ImageDataGenerator(rescale=1./255)\n",
        "\n",
        "train_generator = train_datagen.flow_from_directory(\n",
        "    train_path,\n",
        "    target_size=(224, 224),\n",
        "    batch_size=batch_size,\n",
        "    class_mode='categorical'\n",
        ")\n",
        "\n",
        "val_generator = val_datagen.flow_from_directory(\n",
        "    val_path,\n",
        "    target_size=(224, 224),\n",
        "    batch_size=batch_size,\n",
        "    class_mode='categorical'\n",
        ")\n",
        "\n",
        "test_generator = test_datagen.flow_from_directory(\n",
        "    test_path,\n",
        "    target_size=(224, 224),\n",
        "    batch_size=batch_size,\n",
        "    class_mode='categorical'\n",
        ")\n",
        "\n",
        "# Print the number of images belonging to each class in the training set\n",
        "class_counts = np.bincount(train_generator.classes)\n",
        "class_labels = list(train_generator.class_indices.keys())\n",
        "for label, count in zip(class_labels, class_counts):\n",
        "    print(f\"The class {label} has {count} images in the training set.\")"
      ],
      "metadata": {
        "colab": {
          "base_uri": "https://localhost:8080/"
        },
        "id": "DcVOowieHkgY",
        "outputId": "7afdf005-4b4e-4ae1-a843-226d87474a05"
      },
      "execution_count": null,
      "outputs": [
        {
          "output_type": "stream",
          "name": "stdout",
          "text": [
            "Found 151 images belonging to 5 classes.\n",
            "Found 25 images belonging to 5 classes.\n",
            "Found 15 images belonging to 5 classes.\n",
            "The class Cathy Freeman has 29 images in the training set.\n",
            "The class Liam Hemsworth has 32 images in the training set.\n",
            "The class Margot Robbie has 30 images in the training set.\n",
            "The class Mel Gibson has 30 images in the training set.\n",
            "The class Nicole Kidman has 30 images in the training set.\n"
          ]
        }
      ]
    },
    {
      "cell_type": "markdown",
      "source": [
        "## VGG16"
      ],
      "metadata": {
        "id": "sQLkDrTCxcU1"
      }
    },
    {
      "cell_type": "code",
      "source": [
        "# Load VGG16\n",
        "base_model = VGG16(weights='imagenet', include_top=False, input_shape=(224, 224, 3))\n",
        "\n",
        "# Fine-tunig\n",
        "for layer in base_model.layers[:-4]:\n",
        "  layer.trainable = False\n",
        "\n",
        "# Add global average layer and dropout for regularization\n",
        "net = base_model.output\n",
        "net = GlobalAveragePooling2D()(net)\n",
        "net = Dropout(0.6)(net)\n",
        "\n",
        "# Creat the new model with VGG16 (feature selection) + SVC (classifier)\n",
        "new_model = Model(inputs=base_model.input, outputs=net)\n",
        "\n",
        "train_features = new_model.predict(train_generator)\n",
        "train_labels = train_generator.classes\n",
        "\n",
        "val_features = new_model.predict(val_generator)\n",
        "val_labels = val_generator.classes\n",
        "\n",
        "# Train SVM Classifier\n",
        "svm = SVC(kernel='linear')\n",
        "svm.fit(train_features, train_labels )\n",
        "\n",
        "# Evaluate on validation set\n",
        "print(\"Validation Accuracy:\", svm.score(val_features, val_labels))"
      ],
      "metadata": {
        "id": "R3nEr5D7K9As",
        "colab": {
          "base_uri": "https://localhost:8080/"
        },
        "outputId": "1a31e7af-e454-481a-fb02-7ee1f27cf578"
      },
      "execution_count": null,
      "outputs": [
        {
          "output_type": "stream",
          "name": "stdout",
          "text": [
            "2/2 [==============================] - 28s 36ms/step\n",
            "1/1 [==============================] - 0s 464ms/step\n",
            "Validation Accuracy: 0.12\n"
          ]
        }
      ]
    },
    {
      "cell_type": "markdown",
      "source": [
        "## ResNet50"
      ],
      "metadata": {
        "id": "Tgo7ULd-xUUJ"
      }
    },
    {
      "cell_type": "code",
      "source": [
        "# Load Resnet50\n",
        "base_model = ResNet50(weights='imagenet', include_top=False, input_shape=(224, 224, 3))\n",
        "\n",
        "# Fine-tunig\n",
        "for layer in base_model.layers[:-4]:\n",
        "  layer.trainable = False\n",
        "\n",
        "# Add global average layer and dropout for regularization\n",
        "net = base_model.output\n",
        "net = GlobalAveragePooling2D()(net)\n",
        "net = Dropout(0.6)(net)\n",
        "\n",
        "# Creat the new model with VGG16 (feature selection) + SVC (classifier)\n",
        "new_model = Model(inputs=base_model.input, outputs=net)\n",
        "\n",
        "train_features = new_model.predict(train_generator)\n",
        "train_labels = train_generator.classes\n",
        "\n",
        "val_features = new_model.predict(val_generator)\n",
        "val_labels = val_generator.classes\n",
        "\n",
        "# Train SVM Classifier\n",
        "svm = SVC(kernel='linear')\n",
        "svm.fit(train_features, train_labels )\n",
        "\n",
        "# Evaluate on validation set\n",
        "print(\"Validation Accuracy:\", svm.score(val_features, val_labels))"
      ],
      "metadata": {
        "colab": {
          "base_uri": "https://localhost:8080/"
        },
        "id": "oBFtyP3Cv4Mo",
        "outputId": "62cff736-a551-4c49-8a2a-0cd5c63ba1e5"
      },
      "execution_count": null,
      "outputs": [
        {
          "output_type": "stream",
          "name": "stdout",
          "text": [
            "2/2 [==============================] - 12s 34ms/step\n",
            "1/1 [==============================] - 0s 496ms/step\n",
            "Validation Accuracy: 0.08\n"
          ]
        }
      ]
    },
    {
      "cell_type": "markdown",
      "source": [
        "## InceptionV3"
      ],
      "metadata": {
        "id": "nboGQkdNxRDN"
      }
    },
    {
      "cell_type": "code",
      "source": [
        "# Load Resnet50\n",
        "base_model = InceptionV3(weights='imagenet', include_top=False, input_shape=(224, 224, 3))\n",
        "\n",
        "# Fine-tunig\n",
        "for layer in base_model.layers[:-4]:\n",
        "  layer.trainable = False\n",
        "\n",
        "# Add global average layer and dropout for regularization\n",
        "net = base_model.output\n",
        "net = GlobalAveragePooling2D()(net)\n",
        "net = Dropout(0.6)(net)\n",
        "\n",
        "# Creat the new model with VGG16 (feature selection) + SVC (classifier)\n",
        "new_model = Model(inputs=base_model.input, outputs=net)\n",
        "\n",
        "train_features = new_model.predict(train_generator)\n",
        "train_labels = train_generator.classes\n",
        "\n",
        "val_features = new_model.predict(val_generator)\n",
        "val_labels = val_generator.classes\n",
        "\n",
        "# Train SVM Classifier\n",
        "svm = SVC(kernel='linear')\n",
        "svm.fit(train_features, train_labels )\n",
        "\n",
        "# Evaluate on validation set\n",
        "print(\"Validation Accuracy:\", svm.score(val_features, val_labels))"
      ],
      "metadata": {
        "colab": {
          "base_uri": "https://localhost:8080/"
        },
        "id": "tm-ecUtxwPMw",
        "outputId": "c6a17d9a-4627-44ff-8019-97dd0632e3a5"
      },
      "execution_count": null,
      "outputs": [
        {
          "output_type": "stream",
          "name": "stdout",
          "text": [
            "2/2 [==============================] - 7s 576ms/step\n",
            "1/1 [==============================] - 0s 494ms/step\n",
            "Validation Accuracy: 0.2\n"
          ]
        }
      ]
    },
    {
      "cell_type": "markdown",
      "source": [
        "## EfficientNetB0"
      ],
      "metadata": {
        "id": "uDhoYDnIxNwr"
      }
    },
    {
      "cell_type": "code",
      "source": [
        "# Load Resnet50\n",
        "base_model = EfficientNetB0(weights='imagenet', include_top=False, input_shape=(224, 224, 3))\n",
        "\n",
        "# Fine-tunig\n",
        "for layer in base_model.layers[:-4]:\n",
        "  layer.trainable = False\n",
        "\n",
        "# Add global average layer and dropout for regularization\n",
        "net = base_model.output\n",
        "net = GlobalAveragePooling2D()(net)\n",
        "net = Dropout(0.6)(net)\n",
        "\n",
        "# Creat the new model with VGG16 (feature selection) + SVC (classifier)\n",
        "new_model = Model(inputs=base_model.input, outputs=net)\n",
        "\n",
        "train_features = new_model.predict(train_generator)\n",
        "train_labels = train_generator.classes\n",
        "\n",
        "val_features = new_model.predict(val_generator)\n",
        "val_labels = val_generator.classes\n",
        "\n",
        "# Train SVM Classifier\n",
        "svm = SVC(kernel='linear')\n",
        "svm.fit(train_features, train_labels )\n",
        "\n",
        "# Evaluate on validation set\n",
        "print(\"Validation Accuracy:\", svm.score(val_features, val_labels))"
      ],
      "metadata": {
        "colab": {
          "base_uri": "https://localhost:8080/"
        },
        "id": "YxRSN_KoxASm",
        "outputId": "756d5011-f772-4e4b-950a-af34a4a20383"
      },
      "execution_count": null,
      "outputs": [
        {
          "output_type": "stream",
          "name": "stdout",
          "text": [
            "2/2 [==============================] - 7s 915ms/step\n",
            "1/1 [==============================] - 1s 725ms/step\n",
            "Validation Accuracy: 0.2\n"
          ]
        }
      ]
    }
  ]
}