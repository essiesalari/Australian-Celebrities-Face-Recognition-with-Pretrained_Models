{
  "nbformat": 4,
  "nbformat_minor": 0,
  "metadata": {
    "colab": {
      "provenance": [],
      "authorship_tag": "ABX9TyO3byWyhzSxS4YwkA/dfLA6",
      "include_colab_link": true
    },
    "kernelspec": {
      "name": "python3",
      "display_name": "Python 3"
    },
    "language_info": {
      "name": "python"
    }
  },
  "cells": [
    {
      "cell_type": "markdown",
      "metadata": {
        "id": "view-in-github",
        "colab_type": "text"
      },
      "source": [
        "<a href=\"https://colab.research.google.com/github/essiesalari/Australian-Celebrities-Face-Recognition-with-Transfer-Learning/blob/main/Australian_Celebrities_Face_Recognition_VGG16.ipynb\" target=\"_parent\"><img src=\"https://colab.research.google.com/assets/colab-badge.svg\" alt=\"Open In Colab\"/></a>"
      ]
    },
    {
      "cell_type": "markdown",
      "source": [
        "# **Australian Celebrities Face Recognition-VGG16**"
      ],
      "metadata": {
        "id": "cOvOB2b2dgjU"
      }
    },
    {
      "cell_type": "code",
      "source": [],
      "metadata": {
        "id": "wdTvIkS6dgLz"
      },
      "execution_count": null,
      "outputs": []
    }
  ]
}